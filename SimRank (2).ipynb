{
 "cells": [
  {
   "cell_type": "code",
   "execution_count": 1,
   "metadata": {},
   "outputs": [],
   "source": [
    "import findspark\n",
    "findspark.init()\n",
    "import pyspark\n",
    "import re\n",
    "\n",
    "import numpy as np\n",
    "import scipy.sparse as sps\n",
    "from pyspark.mllib.linalg import Vectors\n",
    "from pyspark.mllib.linalg import SparseVector\n",
    "from pyspark.mllib.regression import LabeledPoint"
   ]
  },
  {
   "cell_type": "code",
   "execution_count": 4,
   "metadata": {},
   "outputs": [],
   "source": [
    "rddData = sc.textFile(\"##################\")"
   ]
  },
  {
   "cell_type": "markdown",
   "metadata": {},
   "source": [
    "To make your life easier, the following 4 dictionaries has been provided:\n",
    "\n",
    "cuisine_encoder: each cuisine is given a index\n",
    "\n",
    "ingredient_encoder: each ingredient is given a index\n",
    "\n",
    "cuisine_counter: how many recipes are there in each cuisine\n",
    "\n",
    "ingredient_counter: how many times each ingredient appear in the whole data"
   ]
  },
  {
   "cell_type": "code",
   "execution_count": 33,
   "metadata": {},
   "outputs": [],
   "source": [
    "cuisine_encoder = np.load('/scratch/ISE495/data/catogDic.npy').item()\n",
    "\n",
    "cuisine_counter = np.load('/scratch/ISE495/data/catogCount.npy').item()\n",
    "\n",
    "diclist=rddData.flatMap(lambda x: x.split(\";\",2)[2].split(\";\")).distinct().collect()\n",
    "ingredient_encoder ={f:i for i, f in enumerate(diclist)}\n",
    "\n",
    "ingredientlist=rddData.flatMap(lambda x:x.split(\";\",2)[2].split(\";\")).map(lambda x: (x,1)).reduceByKey(lambda x,y:x+y).collect()\n",
    "ingredient_counter = {ingredient_encoder[i]:f for i,f in ingredientlist}"
   ]
  },
  {
   "cell_type": "markdown",
   "metadata": {},
   "source": [
    "### Use SimRank idea to find out which cuisine is most similar to thai cuisine."
   ]
  },
  {
   "cell_type": "markdown",
   "metadata": {},
   "source": [
    "put the place of thai to 1 and others to 0"
   ]
  },
  {
   "cell_type": "code",
   "execution_count": 34,
   "metadata": {},
   "outputs": [],
   "source": [
    "X=np.zeros(20)\n",
    "X[cuisine_encoder[\"thai\"]]=1"
   ]
  },
  {
   "cell_type": "code",
   "execution_count": 35,
   "metadata": {},
   "outputs": [],
   "source": [
    "linkData = rddData.map(lambda x:x.split(';'))\n",
    "linkData = linkData.map(lambda x: (int(cuisine_encoder[x[0]]), (int(x[1]),([ingredient_encoder[i] for i in x[2:]])))).sortBy(lambda x:x[0])"
   ]
  },
  {
   "cell_type": "code",
   "execution_count": 10,
   "metadata": {},
   "outputs": [
    {
     "data": {
      "text/plain": [
       "[(0, (33755, [373, 310, 53, 531, 1258, 115, 2193, 964, 27, 1913, 1530, 11]))]"
      ]
     },
     "execution_count": 10,
     "metadata": {},
     "output_type": "execute_result"
    }
   ],
   "source": [
    "linkData.take(1)"
   ]
  },
  {
   "cell_type": "markdown",
   "metadata": {},
   "source": [
    "SamRank Algorithm"
   ]
  },
  {
   "cell_type": "code",
   "execution_count": 38,
   "metadata": {},
   "outputs": [
    {
     "name": "stdout",
     "output_type": "stream",
     "text": [
      "[0.00127739 0.02483342 0.02381732 0.00518642 0.0034112  0.00594684\n",
      " 0.00309743 0.00158679 0.00114494 0.00523611 0.84109911 0.01042529\n",
      " 0.00611715 0.01397185 0.00293365 0.00779805 0.00307872 0.01881097\n",
      " 0.00238718 0.01784014]\n",
      "[0.00148823 0.02595105 0.02319848 0.00502579 0.00360477 0.00668114\n",
      " 0.00309438 0.00186383 0.00131059 0.005694   0.83614238 0.01161243\n",
      " 0.00605747 0.01276307 0.0031559  0.00790165 0.00337248 0.01888111\n",
      " 0.00236874 0.0198325 ]\n",
      "[0.00150416 0.0260094  0.0230687  0.00500526 0.00361527 0.0067452\n",
      " 0.0030918  0.00188499 0.0013214  0.0057275  0.83593188 0.01170914\n",
      " 0.0060273  0.01267949 0.00317329 0.00787268 0.00339607 0.01884393\n",
      " 0.00236578 0.02002678]\n",
      "[0.00150531 0.02601308 0.02305592 0.0050036  0.00361592 0.00675043\n",
      " 0.00309157 0.0018865  0.00132212 0.00572997 0.83592051 0.01171648\n",
      " 0.00602394 0.01267423 0.00317468 0.00786843 0.00339798 0.01883956\n",
      " 0.00236564 0.02004412]\n",
      "[0.00150539 0.02601335 0.02305483 0.00500347 0.00361596 0.00675085\n",
      " 0.00309155 0.00188661 0.00132217 0.00573016 0.83591977 0.01171704\n",
      " 0.00602364 0.01267387 0.0031748  0.007868   0.00339814 0.01883916\n",
      " 0.00236563 0.0200456 ]\n",
      "[0.0015054  0.02601337 0.02305474 0.00500346 0.00361596 0.00675088\n",
      " 0.00309155 0.00188662 0.00132217 0.00573017 0.83591972 0.01171708\n",
      " 0.00602361 0.01267385 0.00317481 0.00786797 0.00339815 0.01883913\n",
      " 0.00236563 0.02004572]\n",
      "[0.0015054  0.02601338 0.02305473 0.00500346 0.00361596 0.00675088\n",
      " 0.00309155 0.00188662 0.00132217 0.00573018 0.83591972 0.01171709\n",
      " 0.00602361 0.01267384 0.00317481 0.00786796 0.00339816 0.01883912\n",
      " 0.00236563 0.02004573]\n",
      "[0.0015054  0.02601338 0.02305473 0.00500346 0.00361596 0.00675088\n",
      " 0.00309155 0.00188662 0.00132217 0.00573018 0.83591972 0.01171709\n",
      " 0.00602361 0.01267384 0.00317481 0.00786796 0.00339816 0.01883912\n",
      " 0.00236563 0.02004573]\n",
      "[0.0015054  0.02601338 0.02305473 0.00500346 0.00361596 0.00675088\n",
      " 0.00309155 0.00188662 0.00132217 0.00573018 0.83591972 0.01171709\n",
      " 0.00602361 0.01267384 0.00317481 0.00786796 0.00339816 0.01883912\n",
      " 0.00236563 0.02004573]\n",
      "[0.0015054  0.02601338 0.02305473 0.00500346 0.00361596 0.00675088\n",
      " 0.00309155 0.00188662 0.00132217 0.00573018 0.83591972 0.01171709\n",
      " 0.00602361 0.01267384 0.00317481 0.00786796 0.00339816 0.01883912\n",
      " 0.00236563 0.02004573]\n"
     ]
    }
   ],
   "source": [
    "xNew=X\n",
    "\n",
    "beta=0.8\n",
    "for i in xrange(10):\n",
    "    def gg(y):\n",
    "        result = []\n",
    "        for i in y[1][1]:\n",
    "            result.append((i,xNew[y[0]]/len(y[1][1])/cuisine_counter[y[0]]))\n",
    "        return result\n",
    "    newy = linkData.flatMap(gg).reduceByKey(lambda x,y:x+y).sortBy(lambda x:x[0]).collect()\n",
    "\n",
    "    def kk(y):\n",
    "        result1 = []\n",
    "        for i in y[1][1]:\n",
    "            result1.append((y[0],newy[i][1]/ingredient_counter[i]))\n",
    "        return result1\n",
    "   \n",
    "    xc=linkData.flatMap(kk).reduceByKey(lambda x,y:x+y).sortBy(lambda x:x[0]).collect()\n",
    "\n",
    "    xNew=[i[1] for i in xc]\n",
    "    xsum=sum(xNew)\n",
    "    \n",
    "    xNew= (1-beta)/xsum*np.array(xNew)+beta*X\n",
    "    print xNew\n",
    "\n"
   ]
  },
  {
   "cell_type": "code",
   "execution_count": 32,
   "metadata": {},
   "outputs": [
    {
     "name": "stdout",
     "output_type": "stream",
     "text": [
      "thai\n",
      "mexican\n",
      "chinese\n",
      "italian\n",
      "indian\n",
      "vietnamese\n",
      "southern_us\n",
      "japanese\n",
      "french\n",
      "korean\n",
      "cajun_creole\n",
      "filipino\n",
      "moroccan\n",
      "greek\n",
      "spanish\n",
      "jamaican\n",
      "brazilian\n",
      "british\n",
      "irish\n",
      "russian\n"
     ]
    }
   ],
   "source": [
    "for i in sorted(zip(xNew,range(len(xNew))),reverse=True):\n",
    "    print cuisine_encoder.keys() [list (cuisine_encoder.values()).index (i[1])]"
   ]
  },
  {
   "cell_type": "code",
   "execution_count": null,
   "metadata": {
    "collapsed": true
   },
   "outputs": [],
   "source": []
  },
  {
   "cell_type": "code",
   "execution_count": null,
   "metadata": {
    "collapsed": true
   },
   "outputs": [],
   "source": [
    "sc.stop()"
   ]
  }
 ],
 "metadata": {
  "kernelspec": {
   "display_name": "Python 2",
   "language": "python",
   "name": "python2"
  },
  "language_info": {
   "codemirror_mode": {
    "name": "ipython",
    "version": 2
   },
   "file_extension": ".py",
   "mimetype": "text/x-python",
   "name": "python",
   "nbconvert_exporter": "python",
   "pygments_lexer": "ipython2",
   "version": "2.7.9"
  }
 },
 "nbformat": 4,
 "nbformat_minor": 2
}
